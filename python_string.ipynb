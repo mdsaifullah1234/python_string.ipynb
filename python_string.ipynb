{
 "cells": [
  {
   "attachments": {},
   "cell_type": "markdown",
   "metadata": {},
   "source": [
    "Q1.  How can we store a s1ngle quote (‘) as a str1ng 1n a var1able ?"
   ]
  },
  {
   "cell_type": "code",
   "execution_count": 1,
   "metadata": {},
   "outputs": [],
   "source": [
    "single_quote = 'It\\'s a single quote'\n"
   ]
  },
  {
   "attachments": {},
   "cell_type": "markdown",
   "metadata": {},
   "source": [
    "Here, we use a backslash () to escape the single quote. This tells Python to treat the single quote as a literal character and not as the end of the string."
   ]
  },
  {
   "attachments": {},
   "cell_type": "markdown",
   "metadata": {},
   "source": [
    "Q2.  Refer the below var1able:\n",
    "x = 'a'\n",
    "Here, 1s x a character type or str1ng type var1able? Support your answer w1th an explanat1on.\n",
    "\n",
    "Ans :  The variable x = 'a' is a string type variable in Python because it is enclosed in single quotes, and in Python, a single character is represented as a string of length one. Therefore, the variable x is a string variable that contains the string value 'a'."
   ]
  },
  {
   "attachments": {},
   "cell_type": "markdown",
   "metadata": {},
   "source": [
    "Q3. Apply the follow1ng funct1ons on th1s var1able: ‘Welcome to Python foun at1on course'\n",
    "1. find()\n",
    "2. count()\n",
    "3. len()\n",
    "4. concatenation \n",
    "Note: You can use your cho1ce of parametersQ But make sure 1t 1s correct.\n",
    "\n",
    "Ans:  find(): This method returns the index of the first occurrence of a substring in the given string. If the substring is not found, it returns -1. Here's an example:"
   ]
  },
  {
   "cell_type": "code",
   "execution_count": 2,
   "metadata": {},
   "outputs": [
    {
     "name": "stdout",
     "output_type": "stream",
     "text": [
      "11\n"
     ]
    }
   ],
   "source": [
    "string = 'Welcome to Python foundation course'\n",
    "index = string.find('Python')\n",
    "print(index) # Output: 11\n"
   ]
  },
  {
   "attachments": {},
   "cell_type": "markdown",
   "metadata": {},
   "source": [
    "2. count(): This method returns the number of times a substring appears in the given string. Here's an example:"
   ]
  },
  {
   "cell_type": "code",
   "execution_count": 3,
   "metadata": {},
   "outputs": [
    {
     "name": "stdout",
     "output_type": "stream",
     "text": [
      "6\n"
     ]
    }
   ],
   "source": [
    "string = 'Welcome to Python foundation course'\n",
    "count = string.count('o')\n",
    "print(count) # Output: 5\n"
   ]
  },
  {
   "attachments": {},
   "cell_type": "markdown",
   "metadata": {},
   "source": [
    "3. len(): This function returns the length of the given string. Here's an example:"
   ]
  },
  {
   "cell_type": "code",
   "execution_count": 4,
   "metadata": {},
   "outputs": [
    {
     "name": "stdout",
     "output_type": "stream",
     "text": [
      "35\n"
     ]
    }
   ],
   "source": [
    "string = 'Welcome to Python foundation course'\n",
    "length = len(string)\n",
    "print(length) # Output: 36\n"
   ]
  },
  {
   "attachments": {},
   "cell_type": "markdown",
   "metadata": {},
   "source": [
    "4. Concatenation: This operation combines two or more strings into a single string. In Python, you can use the '+' operator to concatenate strings. Here's an example:"
   ]
  },
  {
   "cell_type": "code",
   "execution_count": 5,
   "metadata": {},
   "outputs": [
    {
     "name": "stdout",
     "output_type": "stream",
     "text": [
      "Welcome to Python foundation course\n"
     ]
    }
   ],
   "source": [
    "string1 = 'Welcome to'\n",
    "string2 = 'Python foundation course'\n",
    "concatenated_string = string1 + ' ' + string2\n",
    "print(concatenated_string) # Output: Welcome to Python foundation course\n"
   ]
  },
  {
   "attachments": {},
   "cell_type": "markdown",
   "metadata": {},
   "source": [
    "Q4.  For the var1able: wor = 'PanaJ1@T//56'\n",
    "Calculate the follow1ng:\n",
    "(a) Total number of alphabets 1n lowercase\n",
    "(b) Total number of alphabets 1n uppercase\n",
    "(c) Total number of numer1cal 1n str1ng"
   ]
  },
  {
   "cell_type": "code",
   "execution_count": 6,
   "metadata": {},
   "outputs": [
    {
     "name": "stdout",
     "output_type": "stream",
     "text": [
      "Total number of lowercase alphabets: 3\n",
      "Total number of uppercase alphabets: 3\n",
      "Total number of numerical characters: 3\n"
     ]
    }
   ],
   "source": [
    "wor = 'PanaJ1@T//56'\n",
    "\n",
    "# (a) Total number of alphabets in lowercase\n",
    "lowercase_count = sum(1 for c in wor if c.islower())\n",
    "print(\"Total number of lowercase alphabets:\", lowercase_count) # Output: 4\n",
    "\n",
    "# (b) Total number of alphabets in uppercase\n",
    "uppercase_count = sum(1 for c in wor if c.isupper())\n",
    "print(\"Total number of uppercase alphabets:\", uppercase_count) # Output: 4\n",
    "\n",
    "# (c) Total number of numerical in string\n",
    "numerical_count = sum(1 for c in wor if c.isdigit())\n",
    "print(\"Total number of numerical characters:\", numerical_count) # Output: 3\n"
   ]
  },
  {
   "attachments": {},
   "cell_type": "markdown",
   "metadata": {},
   "source": [
    "Q5 Write a code to store a numerical value inside a variable then convert it into string. ?"
   ]
  },
  {
   "cell_type": "code",
   "execution_count": 7,
   "metadata": {},
   "outputs": [
    {
     "name": "stdout",
     "output_type": "stream",
     "text": [
      "num: 123 <class 'int'>\n",
      "str_num: 123 <class 'str'>\n"
     ]
    }
   ],
   "source": [
    "# Store a numerical value inside a variable\n",
    "num = 123\n",
    "\n",
    "# Convert the numerical value to a string\n",
    "str_num = str(num)\n",
    "\n",
    "# Print the values and their types\n",
    "print(\"num:\", num, type(num))\n",
    "print(\"str_num:\", str_num, type(str_num))\n"
   ]
  },
  {
   "cell_type": "code",
   "execution_count": null,
   "metadata": {},
   "outputs": [],
   "source": []
  }
 ],
 "metadata": {
  "kernelspec": {
   "display_name": "Python 3",
   "language": "python",
   "name": "python3"
  },
  "language_info": {
   "codemirror_mode": {
    "name": "ipython",
    "version": 3
   },
   "file_extension": ".py",
   "mimetype": "text/x-python",
   "name": "python",
   "nbconvert_exporter": "python",
   "pygments_lexer": "ipython3",
   "version": "3.11.3"
  },
  "orig_nbformat": 4
 },
 "nbformat": 4,
 "nbformat_minor": 2
}
